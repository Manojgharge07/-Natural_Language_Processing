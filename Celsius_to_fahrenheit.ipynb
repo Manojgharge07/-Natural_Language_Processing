{
  "nbformat": 4,
  "nbformat_minor": 0,
  "metadata": {
    "colab": {
      "provenance": [],
      "authorship_tag": "ABX9TyNPXV375bRC9q/sTIxNGv3N",
      "include_colab_link": true
    },
    "kernelspec": {
      "name": "python3",
      "display_name": "Python 3"
    },
    "language_info": {
      "name": "python"
    }
  },
  "cells": [
    {
      "cell_type": "markdown",
      "metadata": {
        "id": "view-in-github",
        "colab_type": "text"
      },
      "source": [
        "<a href=\"https://colab.research.google.com/github/Manojgharge07/-Natural_Language_Processing/blob/main/Celsius_to_fahrenheit.ipynb\" target=\"_parent\"><img src=\"https://colab.research.google.com/assets/colab-badge.svg\" alt=\"Open In Colab\"/></a>"
      ]
    },
    {
      "cell_type": "markdown",
      "source": [
        "# Copyright 2018 The TensorFlow Authors"
      ],
      "metadata": {
        "id": "Bc6ekl1xWqJq"
      }
    },
    {
      "cell_type": "code",
      "execution_count": null,
      "metadata": {
        "id": "yE6ELYrJWcLP"
      },
      "outputs": [],
      "source": [
        "#@title Licensed under the Apache License, Version 2.0 (the \"License\");\n",
        "# you may not use this file except in compliance with the License.\n",
        "# You may obtain a copy of the License at\n",
        "#\n",
        "# https://www.apache.org/licenses/LICENSE-2.0\n",
        "#\n",
        "# Unless required by applicable law or agreed to in writing, software\n",
        "# distributed under the License is distributed on an \"AS IS\" BASIS,\n",
        "# WITHOUT WARRANTIES OR CONDITIONS OF ANY KIND, either express or implied.\n",
        "# See the License for the specific language governing permissions and\n",
        "# limitations under the License."
      ]
    },
    {
      "cell_type": "markdown",
      "source": [
        "# The Basics: Training Your First Model"
      ],
      "metadata": {
        "id": "0FmQIggdW3_J"
      }
    },
    {
      "cell_type": "markdown",
      "source": [
        "Welcome to this Colab where you will train your first Machine Learning model!\n",
        "\n",
        "We'll try to keep things simple here, and only introduce basic concepts. Later Colabs will cover more advanced problems.\n",
        "\n",
        "The problem we will solve is to convert from Celsius to Fahrenheit, where the approximate formula is:\n",
        "\n",
        "                          f = c* 1.8 + 32\n",
        "\n",
        "Of course, it would be simple enough to create a conventional Python function that directly performs this calculation, but that wouldn't be machine learning.\n",
        "\n",
        "Instead, we will give TensorFlow some sample Celsius values (0, 8, 15, 22, 38) and their corresponding Fahrenheit values (32, 46, 59, 72, 100). Then, we will train a model that figures out the above formula through the training process."
      ],
      "metadata": {
        "id": "p4zpMmYRXB6v"
      }
    },
    {
      "cell_type": "markdown",
      "source": [
        "# Import dependencies\n",
        "\n",
        "First, import TensorFlow. Here, we're calling it **tf** for ease of use. We also tell it to only display errors.\n",
        "\n",
        "Next, import NumPy as **np**. Numpy helps us to represent our data as highly performant lists."
      ],
      "metadata": {
        "id": "Bi7wNMfGXUqT"
      }
    },
    {
      "cell_type": "code",
      "source": [
        "import tensorflow as tf"
      ],
      "metadata": {
        "id": "OAkbOj-2W8Iq"
      },
      "execution_count": null,
      "outputs": []
    },
    {
      "cell_type": "code",
      "source": [
        "import numpy as np\n",
        "import logging\n",
        "logger = tf.get_logger()\n",
        "logger.setLevel(logging.ERROR)"
      ],
      "metadata": {
        "id": "IaMg4jgAXtgm"
      },
      "execution_count": null,
      "outputs": []
    },
    {
      "cell_type": "markdown",
      "source": [
        "# Set up training data\n",
        "As we saw before, supervised Machine Learning is all about figuring out an algorithm given a set of inputs and outputs. Since the task in this Codelab is to create a model that can give the temperature in Fahrenheit when given the degrees in Celsius, we create two lists celsius_q and fahrenheit_a that we can use to train our model."
      ],
      "metadata": {
        "id": "0r39SVIVX0R2"
      }
    },
    {
      "cell_type": "code",
      "source": [
        "celsius_q    = np.array([-100, -89, -72, -65, -40, -10,  0,  8, 15, 22,  38, 56, 76, 84, 100],  dtype=float)\n",
        "fahrenheit_a = np.array([-148, -128, -98, -85, -40,  14, 32, 46, 59, 72, 100, 133, 169, 183, 212],  dtype=float)\n",
        "\n",
        "for i,c in enumerate(celsius_q):\n",
        "  print(\"{} degrees Celsius = {} degrees Fahrenheit\".format(c, fahrenheit_a[i]))"
      ],
      "metadata": {
        "colab": {
          "base_uri": "https://localhost:8080/"
        },
        "id": "uASN_n_WXxWX",
        "outputId": "e3330cda-2720-4504-de93-658af102e5a3"
      },
      "execution_count": null,
      "outputs": [
        {
          "output_type": "stream",
          "name": "stdout",
          "text": [
            "-100.0 degrees Celsius = -148.0 degrees Fahrenheit\n",
            "-89.0 degrees Celsius = -128.0 degrees Fahrenheit\n",
            "-72.0 degrees Celsius = -98.0 degrees Fahrenheit\n",
            "-65.0 degrees Celsius = -85.0 degrees Fahrenheit\n",
            "-40.0 degrees Celsius = -40.0 degrees Fahrenheit\n",
            "-10.0 degrees Celsius = 14.0 degrees Fahrenheit\n",
            "0.0 degrees Celsius = 32.0 degrees Fahrenheit\n",
            "8.0 degrees Celsius = 46.0 degrees Fahrenheit\n",
            "15.0 degrees Celsius = 59.0 degrees Fahrenheit\n",
            "22.0 degrees Celsius = 72.0 degrees Fahrenheit\n",
            "38.0 degrees Celsius = 100.0 degrees Fahrenheit\n",
            "56.0 degrees Celsius = 133.0 degrees Fahrenheit\n",
            "76.0 degrees Celsius = 169.0 degrees Fahrenheit\n",
            "84.0 degrees Celsius = 183.0 degrees Fahrenheit\n",
            "100.0 degrees Celsius = 212.0 degrees Fahrenheit\n"
          ]
        }
      ]
    },
    {
      "cell_type": "markdown",
      "source": [
        "# Some Machine Learning terminology\n",
        "Feature — The input(s) to our model. In this case, a single value — the degrees in Celsius.\n",
        "\n",
        "Labels — The output our model predicts. In this case, a single value — the degrees in Fahrenheit.\n",
        "\n",
        "Example — A pair of inputs/outputs used during training. In our case a pair of values from celsius_q and fahrenheit_a at a specific index, such as (22,72)."
      ],
      "metadata": {
        "id": "mM3GWpHFmFUw"
      }
    },
    {
      "cell_type": "markdown",
      "source": [
        "# Create the model\n",
        "Next, create the model. We will use the simplest possible model we can, a Dense network. Since the problem is straightforward, this network will require only a single layer, with a single neuron.\n",
        "\n",
        "## Build a layer\n",
        "We'll call the layer l0 and create it by instantiating tf.keras.layers.Dense with the following configuration:\n",
        "\n",
        "input_shape=[1] — This specifies that the input to this layer is a single value. That is, the shape is a one-dimensional array with one member. Since this is the first (and only) layer, that input shape is the input shape of the entire model. The single value is a floating point number, representing degrees Celsius.\n",
        "\n",
        "units=1 — This specifies the number of neurons in the layer. The number of neurons defines how many internal variables the layer has to try to learn how to solve the problem (more later). Since this is the final layer, it is also the size of the model's output — a single float value representing degrees Fahrenheit. (In a multi-layered network, the size and shape of the layer would need to match the input_shape of the next layer.)"
      ],
      "metadata": {
        "id": "GcGmBpigmPcv"
      }
    },
    {
      "cell_type": "code",
      "source": [
        "l0 = tf.keras.layers.Dense(units=7, input_shape=[1])"
      ],
      "metadata": {
        "id": "IYKNBLgjsSMj"
      },
      "execution_count": null,
      "outputs": []
    },
    {
      "cell_type": "markdown",
      "source": [
        "# Assemble layers into the model\n",
        "Once layers are defined, they need to be assembled into a model. The Sequential model definition takes a list of layers as an argument, specifying the calculation order from the input to the output.\n",
        "\n",
        "This model has just a single layer, l0."
      ],
      "metadata": {
        "id": "c6-y2O4vsV76"
      }
    },
    {
      "cell_type": "code",
      "source": [
        "model = tf.keras.Sequential([l0])"
      ],
      "metadata": {
        "id": "XXV30XKRscFJ"
      },
      "execution_count": null,
      "outputs": []
    },
    {
      "cell_type": "markdown",
      "source": [
        "# Note\n",
        "\n",
        "You will often see the layers defined inside the model definition, rather than beforehand:\n",
        "\n",
        "model = tf.keras.Sequential([\n",
        "  tf.keras.layers.Dense(units=1, input_shape=[1])\n",
        "])"
      ],
      "metadata": {
        "id": "lkhTghaPscvn"
      }
    },
    {
      "cell_type": "code",
      "source": [
        "#model = tf.keras.Sequential([\n",
        "#  tf.keras.layers.Dense(units=1, input_shape=[1])\n",
        "#])"
      ],
      "metadata": {
        "id": "zfG0h5VjmDht"
      },
      "execution_count": null,
      "outputs": []
    },
    {
      "cell_type": "markdown",
      "source": [
        "# Compile the model, with loss and optimizer functions\n",
        "Before training, the model has to be compiled. When compiled for training, the model is given:\n",
        "\n",
        "**Loss function** — A way of measuring how far off predictions are from the desired outcome. (The measured difference is called the \"loss\".)\n",
        "\n",
        "**Optimizer function** — A way of adjusting internal values in order to reduce the loss."
      ],
      "metadata": {
        "id": "IumkwlDYm4LJ"
      }
    },
    {
      "cell_type": "code",
      "source": [
        "model.compile(loss='mean_squared_error',\n",
        "              optimizer=tf.keras.optimizers.Adam(0.3))"
      ],
      "metadata": {
        "id": "pda9YM_cmtI-"
      },
      "execution_count": null,
      "outputs": []
    },
    {
      "cell_type": "markdown",
      "source": [
        "These are used during training (model.fit(), below) to first calculate the loss at each point, and then improve it. In fact, the act of calculating the current loss of a model and then improving it is precisely what training is.\n",
        "\n",
        "During training, the optimizer function is used to calculate adjustments to the model's internal variables. The goal is to adjust the internal variables until the model (which is really a math function) mirrors the actual equation for converting Celsius to Fahrenheit.\n",
        "\n",
        "TensorFlow uses numerical analysis to perform this tuning, and all this complexity is hidden from you so we will not go into the details here. What is useful to know about these parameters are:\n",
        "\n",
        "The loss function (mean squared error) and the optimizer (Adam) used here are standard for simple models like this one, but many others are available. It is not important to know how these specific functions work at this point.\n",
        "\n",
        "One part of the Optimizer you may need to think about when building your own models is the learning rate (0.1 in the code above). This is the step size taken when adjusting values in the model. If the value is too small, it will take too many iterations to train the model. Too large, and accuracy goes down. Finding a good value often involves some trial and error, but the range is usually within 0.001 (default), and 0.1"
      ],
      "metadata": {
        "id": "NlzEyjDCou_o"
      }
    },
    {
      "cell_type": "markdown",
      "source": [
        "# Train the model\n",
        "Train the model by calling the fit method.\n",
        "\n",
        "During training, the model takes in Celsius values, performs a calculation using the current internal variables (called \"weights\") and outputs values which are meant to be the Fahrenheit equivalent. Since the weights are initially set randomly, the output will not be close to the correct value. The difference between the actual output and the desired output is calculated using the loss function, and the optimizer function directs how the weights should be adjusted.\n",
        "\n",
        "This cycle of calculate, compare, adjust is controlled by the fit method. The first argument is the inputs, the second argument is the desired outputs. The epochs argument specifies how many times this cycle should be run, and the verbose argument controls how much output the method produces."
      ],
      "metadata": {
        "id": "v1KXkJy1oylh"
      }
    },
    {
      "cell_type": "code",
      "source": [
        "history = model.fit(celsius_q, fahrenheit_a, epochs=700, verbose=False)\n",
        "print(\"Finished training the model\")"
      ],
      "metadata": {
        "colab": {
          "base_uri": "https://localhost:8080/"
        },
        "id": "BWZZzGgNnACX",
        "outputId": "1bcae46a-ff87-4640-be6c-ab689c985380"
      },
      "execution_count": null,
      "outputs": [
        {
          "output_type": "stream",
          "name": "stdout",
          "text": [
            "Finished training the model\n"
          ]
        }
      ]
    },
    {
      "cell_type": "markdown",
      "source": [
        "In later videos, we will go into more detail on what actually happens here and how a Dense layer actually works internally.\n",
        "\n",
        "# Display training statistics\n",
        "The fit method returns a history object. We can use this object to plot how the loss of our model goes down after each training epoch. A high loss means that the Fahrenheit degrees the model predicts is far from the corresponding value in fahrenheit_a.\n",
        "\n",
        "We'll use Matplotlib to visualize this (you could use another tool). As you can see, our model improves very quickly at first, and then has a steady, slow improvement until it is very near \"perfect\" towards the end."
      ],
      "metadata": {
        "id": "r92pKpjWpBut"
      }
    },
    {
      "cell_type": "code",
      "source": [
        "import matplotlib.pyplot as plt\n",
        "plt.xlabel('Epoch Number')\n",
        "plt.ylabel(\"Loss Magnitude\")\n",
        "plt.plot(history.history['loss'])"
      ],
      "metadata": {
        "colab": {
          "base_uri": "https://localhost:8080/",
          "height": 296
        },
        "id": "5ChT1C2no7Ti",
        "outputId": "12ca558e-b031-463f-c58d-5ac5e2203c8f"
      },
      "execution_count": null,
      "outputs": [
        {
          "output_type": "execute_result",
          "data": {
            "text/plain": [
              "[<matplotlib.lines.Line2D at 0x7f0413d353d0>]"
            ]
          },
          "metadata": {},
          "execution_count": 149
        },
        {
          "output_type": "display_data",
          "data": {
            "text/plain": [
              "<Figure size 432x288 with 1 Axes>"
            ],
            "image/png": "[encoded data removed]"
          },
          "metadata": {
            "needs_background": "light"
          }
        }
      ]
    },
    {
      "cell_type": "markdown",
      "source": [
        "# Use the model to predict values\n",
        "Now you have a model that has been trained to learn the relationship between celsius_q and fahrenheit_a. You can use the predict method to have it calculate the Fahrenheit degrees for a previously unknown Celsius degrees.\n",
        "\n",
        "So, for example, if the Celsius value is 100, what do you think the Fahrenheit result will be? Take a guess before you run this code."
      ],
      "metadata": {
        "id": "baXXB063pNEA"
      }
    },
    {
      "cell_type": "code",
      "source": [
        "print(model.predict([100.0]))"
      ],
      "metadata": {
        "colab": {
          "base_uri": "https://localhost:8080/"
        },
        "id": "AaxxVZz0pHrY",
        "outputId": "e4ef54cc-316d-4354-ff74-aaf0d282eec2"
      },
      "execution_count": null,
      "outputs": [
        {
          "output_type": "stream",
          "name": "stdout",
          "text": [
            "[[211.99335 211.99335 211.99335 211.99335 211.99335 211.99335 211.99335]]\n"
          ]
        }
      ]
    },
    {
      "cell_type": "markdown",
      "source": [
        "The correct answer is 100*1.8+32 = 212, so our model is doing really well.\n",
        "\n",
        "# To review\n",
        "\n",
        "We created a model with a Dense layer\n",
        "\n",
        "We trained it with 10500 examples (15 pairs, over 700 epochs).\n",
        "\n",
        "Our model tuned the variables (weights) in the Dense layer until it was able to return the correct Fahrenheit value for any Celsius value. (Remember, 100 Celsius was not part of our training data.)"
      ],
      "metadata": {
        "id": "zYV7hEfCqW3H"
      }
    },
    {
      "cell_type": "markdown",
      "source": [
        "# Looking at the layer weights\n",
        "Finally, let's print the internal variables of the Dense layer."
      ],
      "metadata": {
        "id": "7M3AhjVvrFzV"
      }
    },
    {
      "cell_type": "code",
      "source": [
        "print(\"These are the layer variables: {}\".format(l0.get_weights()))"
      ],
      "metadata": {
        "colab": {
          "base_uri": "https://localhost:8080/"
        },
        "id": "5xkfIudEqMOP",
        "outputId": "5be8328f-aef9-45a7-e5e8-1c4f1041ecf2"
      },
      "execution_count": null,
      "outputs": [
        {
          "output_type": "stream",
          "name": "stdout",
          "text": [
            "These are the layer variables: [array([[1.8002031, 1.8002031, 1.8002031, 1.8002031, 1.8002031, 1.8002031,\n",
            "        1.8002031]], dtype=float32), array([31.973032, 31.973036, 31.973032, 31.973036, 31.973034, 31.973036,\n",
            "       31.973034], dtype=float32)]\n"
          ]
        }
      ]
    },
    {
      "cell_type": "markdown",
      "source": [
        "The first variable is close to ~1.8 and the second to ~32. These values (1.8 and 32) are the actual variables in the real conversion formula.\n",
        "\n",
        "This is really close to the values in the conversion formula. We'll explain this in an upcoming video where we show how a Dense layer works, but for a single neuron with a single input and a single output, the internal math looks the same as the equation for a line, y= mx+c, which has the same form as the conversion equation, f= 1.8c+32.\n",
        "\n",
        "Since the form is the same, the variables should converge on the standard values of 1.8 and 32, which is exactly what happened.\n",
        "\n",
        "With additional neurons, additional inputs, and additional outputs, the formula becomes much more complex, but the idea is the same.\n",
        "\n",
        "A little experiment\n",
        "Just for fun, what if we created more Dense layers with different units, which therefore also has more variables?"
      ],
      "metadata": {
        "id": "4YMbKR1T0QRU"
      }
    },
    {
      "cell_type": "code",
      "source": [
        "l0 = tf.keras.layers.Dense(units=7, input_shape=[1])\n",
        "l1 = tf.keras.layers.Dense(units=4)\n",
        "l2 = tf.keras.layers.Dense(units=1)\n",
        "model = tf.keras.Sequential([l0, l1, l2])\n",
        "model.compile(loss='mean_squared_error', optimizer=tf.keras.optimizers.Adam(0.3))\n",
        "model.fit(celsius_q, fahrenheit_a, epochs=700, verbose=False)\n",
        "print(\"Finished training the model\")\n",
        "print(model.predict([100.0]))\n",
        "print(\"Model predicts that 100 degrees Celsius is: {} degrees Fahrenheit\".format(model.predict([100.0])))\n",
        "print(\"These are the l0 variables: {}\".format(l0.get_weights()))\n",
        "print(\"These are the l1 variables: {}\".format(l1.get_weights()))\n",
        "print(\"These are the l2 variables: {}\".format(l2.get_weights()))"
      ],
      "metadata": {
        "colab": {
          "base_uri": "https://localhost:8080/"
        },
        "id": "uSVQOdKttH_8",
        "outputId": "e15c7bb6-76c2-48b0-b0bd-2f4ba301f38d"
      },
      "execution_count": null,
      "outputs": [
        {
          "output_type": "stream",
          "name": "stdout",
          "text": [
            "Finished training the model\n",
            "[[211.99341]]\n",
            "Model predicts that 100 degrees Celsius is: [[211.99341]] degrees Fahrenheit\n",
            "These are the l0 variables: [array([[ 0.27329898, -0.76597875,  0.45232475, -0.03059758,  0.43892643,\n",
            "        -0.19553833, -0.23719405]], dtype=float32), array([ 4.946737 , -5.874615 ,  5.015399 , -1.0846913,  5.9101048,\n",
            "       -6.1159115, -4.48618  ], dtype=float32)]\n",
            "These are the l1 variables: [array([[-0.58259505, -0.28478533, -0.7599863 ,  0.18506584],\n",
            "       [ 0.91494024,  0.35347012,  1.2360866 , -0.33914268],\n",
            "       [ 0.25947976,  0.05298268, -1.0442296 ,  0.95921755],\n",
            "       [ 0.59533536,  1.7185111 ,  0.22480221, -0.8799962 ],\n",
            "       [ 0.3309187 , -0.54563135, -0.99312526,  0.28587177],\n",
            "       [-0.5896476 , -0.8927056 , -0.23500106,  1.7050247 ],\n",
            "       [-1.0808442 , -0.73716164, -0.02067566,  1.2885485 ]],\n",
            "      dtype=float32), array([-4.460777 ,  4.0686517, -6.267384 , -3.4709365], dtype=float32)]\n",
            "These are the l2 variables: [array([[-0.04878294],\n",
            "       [ 0.05139058],\n",
            "       [-0.9034089 ],\n",
            "       [-0.08442499]], dtype=float32), array([6.382836], dtype=float32)]\n"
          ]
        }
      ]
    },
    {
      "cell_type": "markdown",
      "source": [
        "As you can see, this model is also able to predict the corresponding Fahrenheit value really well. But when you look at the variables (weights) in the l0 and l1 layers, they are nothing even close to ~1.8 and ~32. The added complexity hides the \"simple\" form of the conversion equation.\n",
        "\n",
        "Stay tuned for the upcoming video on how Dense layers work for the explanation.\n",
        "\n",
        "# Recap\n",
        "We saw that by training the model with input data and the corresponding output, the model learned to multiply the input by 1.8 and then add 32 to get the correct result."
      ],
      "metadata": {
        "id": "p4KmZoPfSgiH"
      }
    },
    {
      "cell_type": "markdown",
      "source": [
        "![image.png](data:image/png;base64,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)"
      ],
      "metadata": {
        "id": "G_wFjOLKSmUB"
      }
    },
    {
      "cell_type": "code",
      "source": [],
      "metadata": {
        "id": "KmpF1ShB0tw0"
      },
      "execution_count": null,
      "outputs": []
    }
  ]
}